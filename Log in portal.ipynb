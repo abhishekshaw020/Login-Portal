{
 "cells": [
  {
   "cell_type": "code",
   "execution_count": 27,
   "id": "cb852b6f",
   "metadata": {},
   "outputs": [
    {
     "name": "stdout",
     "output_type": "stream",
     "text": [
      "C:\\Users\\ABHISHEK\\anaconda3\n"
     ]
    }
   ],
   "source": [
    "import sys\n",
    "print(sys.prefix)\n"
   ]
  },
  {
   "cell_type": "code",
   "execution_count": 24,
   "id": "d473fe43",
   "metadata": {},
   "outputs": [
    {
     "name": "stdout",
     "output_type": "stream",
     "text": [
      "Requirement already satisfied: SQLAlchemy in c:\\users\\abhishek\\anaconda3\\lib\\site-packages (1.4.39)\n",
      "Requirement already satisfied: greenlet!=0.4.17 in c:\\users\\abhishek\\anaconda3\\lib\\site-packages (from SQLAlchemy) (2.0.1)\n"
     ]
    }
   ],
   "source": [
    "!pip install SQLAlchemy"
   ]
  },
  {
   "cell_type": "code",
   "execution_count": 25,
   "id": "b9179d69",
   "metadata": {},
   "outputs": [
    {
     "name": "stdout",
     "output_type": "stream",
     "text": [
      "Requirement already satisfied: Flask in c:\\users\\abhishek\\anaconda3\\lib\\site-packages (2.2.2)\n",
      "Requirement already satisfied: Werkzeug>=2.2.2 in c:\\users\\abhishek\\anaconda3\\lib\\site-packages (from Flask) (2.2.3)\n",
      "Requirement already satisfied: Jinja2>=3.0 in c:\\users\\abhishek\\anaconda3\\lib\\site-packages (from Flask) (3.1.2)\n",
      "Requirement already satisfied: itsdangerous>=2.0 in c:\\users\\abhishek\\anaconda3\\lib\\site-packages (from Flask) (2.0.1)\n",
      "Requirement already satisfied: click>=8.0 in c:\\users\\abhishek\\anaconda3\\lib\\site-packages (from Flask) (8.0.4)\n",
      "Requirement already satisfied: colorama in c:\\users\\abhishek\\anaconda3\\lib\\site-packages (from click>=8.0->Flask) (0.4.6)\n",
      "Requirement already satisfied: MarkupSafe>=2.0 in c:\\users\\abhishek\\anaconda3\\lib\\site-packages (from Jinja2>=3.0->Flask) (2.1.1)\n"
     ]
    }
   ],
   "source": [
    "!pip install Flask"
   ]
  },
  {
   "cell_type": "code",
   "execution_count": 1,
   "id": "8fb03cc5",
   "metadata": {},
   "outputs": [
    {
     "name": "stdout",
     "output_type": "stream",
     "text": [
      "Requirement already satisfied: bcrypt in c:\\users\\abhishek\\anaconda3\\lib\\site-packages (3.2.0)\n",
      "Requirement already satisfied: cffi>=1.1 in c:\\users\\abhishek\\anaconda3\\lib\\site-packages (from bcrypt) (1.15.1)\n",
      "Requirement already satisfied: six>=1.4.1 in c:\\users\\abhishek\\anaconda3\\lib\\site-packages (from bcrypt) (1.16.0)\n",
      "Requirement already satisfied: pycparser in c:\\users\\abhishek\\anaconda3\\lib\\site-packages (from cffi>=1.1->bcrypt) (2.21)\n"
     ]
    }
   ],
   "source": [
    "!pip install bcrypt"
   ]
  },
  {
   "cell_type": "code",
   "execution_count": 5,
   "id": "8413d615",
   "metadata": {},
   "outputs": [],
   "source": [
    "# Dictionary to store user credentials\n",
    "user_credentials = {'abhishaw': 'password123', 'rockypython': 'python323'}\n",
    "\n",
    "# Dictionary to keep track of signed-in status\n",
    "signed_in_users = {}\n",
    "\n",
    "def sign_in(username, password):\n",
    "    if username in user_credentials and user_credentials[username] == password:\n",
    "        signed_in_users[username] = True\n",
    "        print(f\"{username} successfully signed in.\")\n",
    "    else:\n",
    "        print(\"Invalid username or password.\")\n",
    "\n",
    "def sign_out(username):\n",
    "    if username in signed_in_users:\n",
    "        signed_in_users[username] = False\n",
    "        print(f\"{username} successfully signed out.\")\n",
    "    else:\n",
    "        print(f\"{username} is not signed in.\")\n",
    "\n"
   ]
  },
  {
   "cell_type": "code",
   "execution_count": 6,
   "id": "774d9c63",
   "metadata": {},
   "outputs": [
    {
     "name": "stdout",
     "output_type": "stream",
     "text": [
      "abhishaw successfully signed in.\n"
     ]
    }
   ],
   "source": [
    "sign_in('abhishaw','password123')"
   ]
  },
  {
   "cell_type": "code",
   "execution_count": 7,
   "id": "fe06b279",
   "metadata": {},
   "outputs": [
    {
     "name": "stdout",
     "output_type": "stream",
     "text": [
      "rockypython is not signed in.\n"
     ]
    }
   ],
   "source": [
    "sign_out('rockypython')"
   ]
  },
  {
   "cell_type": "code",
   "execution_count": 8,
   "id": "d2e78270",
   "metadata": {},
   "outputs": [
    {
     "name": "stdout",
     "output_type": "stream",
     "text": [
      "Invalid username or password.\n"
     ]
    }
   ],
   "source": [
    "sign_in('rockypython','montypython')"
   ]
  },
  {
   "cell_type": "code",
   "execution_count": 10,
   "id": "c82fd498",
   "metadata": {},
   "outputs": [
    {
     "name": "stdout",
     "output_type": "stream",
     "text": [
      "rockypython successfully signed in.\n"
     ]
    }
   ],
   "source": [
    "sign_in('rockypython','python323')"
   ]
  },
  {
   "cell_type": "code",
   "execution_count": 11,
   "id": "9dc2e1ff",
   "metadata": {},
   "outputs": [
    {
     "name": "stdout",
     "output_type": "stream",
     "text": [
      "abhishaw successfully signed out.\n"
     ]
    }
   ],
   "source": [
    "sign_out('abhishaw')"
   ]
  },
  {
   "cell_type": "code",
   "execution_count": null,
   "id": "45415cbf",
   "metadata": {},
   "outputs": [],
   "source": []
  }
 ],
 "metadata": {
  "kernelspec": {
   "display_name": "Python 3 (ipykernel)",
   "language": "python",
   "name": "python3"
  },
  "language_info": {
   "codemirror_mode": {
    "name": "ipython",
    "version": 3
   },
   "file_extension": ".py",
   "mimetype": "text/x-python",
   "name": "python",
   "nbconvert_exporter": "python",
   "pygments_lexer": "ipython3",
   "version": "3.11.3"
  }
 },
 "nbformat": 4,
 "nbformat_minor": 5
}
